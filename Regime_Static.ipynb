{
  "nbformat": 4,
  "nbformat_minor": 0,
  "metadata": {
    "colab": {
      "provenance": []
    },
    "kernelspec": {
      "name": "python3",
      "display_name": "Python 3"
    },
    "language_info": {
      "name": "python"
    }
  },
  "cells": [
    {
      "cell_type": "markdown",
      "source": [
        "**Modelling**"
      ],
      "metadata": {
        "id": "t5MF3ENdGgFU"
      }
    },
    {
      "cell_type": "code",
      "execution_count": 184,
      "metadata": {
        "colab": {
          "base_uri": "https://localhost:8080/"
        },
        "id": "miaI-15Ng0_9",
        "outputId": "e791d0b4-09d3-47b6-d81e-a227e25e1f7f"
      },
      "outputs": [
        {
          "output_type": "stream",
          "name": "stdout",
          "text": [
            "La température du voisinage est de: 12 °C\n",
            "La température extérieure est de: 10 °C\n",
            "La température en consigne est de: 20 °C\n"
          ]
        }
      ],
      "source": [
        "import numpy as np\n",
        "import pandas as pd\n",
        "import matplotlib.pyplot as plt\n",
        "import dm4bem\n",
        "\n",
        "import time\n",
        "\n",
        "from dm4bem import read_epw, sol_rad_tilt_surf\n",
        "\n",
        "HSP= 3 #m\n",
        "h = 8 # W/(m²⋅K)\n",
        "\n",
        "air = {'Conductivity': 0.026,              # W/(m·K)\n",
        "       'Density': 1.2,                     # kg/m³\n",
        "       'Specific heat': 1000,             # J/(kg·K)\n",
        "       'Width': 0,                     # m (non spécifié)\n",
        "       'Surface': 0}                   # m² (non spécifiée)\n",
        "\n",
        "window = {'Conductivity': 1.015,           # W/(m·K)\n",
        "          'Density': 2500,                 # kg/m³\n",
        "          'Specific heat': 720,            # J/(kg·K)\n",
        "          'Width': 0.05,                   # m\n",
        "          'Surface': 6.57 * HSP}           # m²\n",
        "\n",
        "entry_door = {'Conductivity': 0.15,        # W/(m·K)\n",
        "              'Density': 520,              # kg/m³\n",
        "              'Specific heat': 1600,       # J/(kg·K)\n",
        "              'Width': 0.03,               # m\n",
        "              'Surface': 1.4 * HSP}        # m²\n",
        "\n",
        "small_door = {'Conductivity': 0.15,        # W/(m·K)\n",
        "              'Density': 520,              # kg/m³\n",
        "              'Specific heat': 1600,       # J/(kg·K)\n",
        "              'Width': 0.03,               # m\n",
        "              'Surface': 1.4 * HSP}        # m²\n",
        "\n",
        "external_wall = {'Conductivity': 0.027,    # W/(m·K)\n",
        "                 'Density': 55,            # kg/m³\n",
        "                 'Specific heat': 1210,    # J/(kg·K)\n",
        "                 'Width': 0.2,             # m\n",
        "                 'Surface': 13.39 * HSP}   # m²\n",
        "external_wall2 = {'Conductivity': 0.027,    # W/(m·K)\n",
        "                 'Density': 55,            # kg/m³\n",
        "                 'Specific heat': 1210,    # J/(kg·K)\n",
        "                 'Width': 0.2,             # m\n",
        "                 'Surface': 4.33 * HSP}   # m²\n",
        "\n",
        "internal_wall = {'Conductivity': 0.058,    # W/(m·K)\n",
        "                 'Density': 250,           # kg/m³\n",
        "                 'Specific heat': 2100,    # J/(kg·K)\n",
        "                 'Width': 0.08,            # m\n",
        "                 'Surface': 3.28 * HSP}    # m²\n",
        "\n",
        "\n",
        "\n",
        "wall = pd.DataFrame.from_dict({'external_wall': external_wall,\n",
        "                               'external_wall2': external_wall2,\n",
        "                               'internal_wall': internal_wall,\n",
        "                               'small_door': small_door,\n",
        "                               'entry_door':entry_door,\n",
        "                               'window':window},\n",
        "                              orient='index')\n",
        "wall\n",
        "\n",
        "# convection\n",
        "Gconv = h * wall['Surface'].iloc[0]     # convection dans la salle jaune\n",
        "\n",
        "\n",
        "# conduction\n",
        "G_cd = wall['Conductivity'] / wall['Width'] * wall['Surface']\n",
        "pd.DataFrame(G_cd, columns=['Conductance'])\n",
        "\n",
        "# radiative properties\n",
        "ε_wLW = 0.85    # long wave emmisivity: wall surface (concrete)\n",
        "ε_gLW = 0.90    # long wave emmisivity: glass pyrex\n",
        "α_wSW = 0.25    # short wave absortivity: white smooth surface\n",
        "α_gSW = 0.38    # short wave absortivity: reflective blue glass\n",
        "τ_gSW = 0.30    # short wave transmitance: reflective blue glass\n",
        "\n",
        "σ = 5.67e-8     # W/(m²⋅K⁴) Stefan-Bolzmann constant\n",
        "\n",
        "rho_air= 1.02\n",
        "c_air=1005\n",
        "S = 20.0    # m², wall surface area\n",
        "#Ti = 24.0   # °C, inside air temperature\n",
        "λ = 1.0     # W/(m·K), thermal conductivity\n",
        "ho = 25.0   # W/(m²·K), outside convection coefficient\n",
        "hi = 8.0    # W/(m²·K), outside convection coefficient\n",
        "α = 0.70    # -, absorbtance of outdoor surface\n",
        "E = 200.0   # W/m², solar irradiance on the outdoor surface\n",
        "\n",
        "T0 = 12  # °C, neighbor air temperature\n",
        "print(\"La température du voisinage est de:\", T0, \"°C\")\n",
        "T1 = 10   # °C, outside air temperature\n",
        "print(\"La température extérieure est de:\", T1, \"°C\")\n",
        "T2 = 20 # °C, HVAC air temperature\n",
        "print(\"La température en consigne est de:\", T2,\"°C\")\n",
        "\n",
        "Ufenetre= 4\n",
        "Usmallporte=3.2\n",
        "Uentryporte=1.6\n",
        "\n",
        "ACH = 5\n",
        "V= 96.09 #volume en m3\n",
        "rho= 1.02 #de l'air à 20 degrés kg/m3\n",
        "c= 1005 # J/kg/degrésC\n",
        "K = 10000 #proportional gain of the HVAC\n",
        "#qHVAC = K*(T2-Ti) #Heat flow rate injected by the HVAC\n",
        "Φ1=1000\n",
        "\n",
        "\n",
        "\n"
      ]
    },
    {
      "cell_type": "markdown",
      "source": [
        "**System of algebraic-differential equations (DAE)**"
      ],
      "metadata": {
        "id": "TAErjCP8HO_s"
      }
    },
    {
      "cell_type": "code",
      "source": [
        "# temperature nodes\n",
        "θ = ['θ0', 'θ1', 'θ2', 'θ3', 'θ4', 'θ5']\n",
        "\n",
        "# flow-rate branches\n",
        "q = ['q0', 'q1', 'q2', 'q3', 'q4', 'q5', 'q6', 'q7', 'q8', 'q9', 'q10']\n",
        "\n",
        "# Incidence matrix\n",
        "\n",
        "A = np.zeros([11, 6])       # n° of branches X n° of nodes\n",
        "A[0, 0] = 1                 # branch 0: -> node 0\n",
        "A[1, 0], A[1, 1] = 1, -1    # branch 1: node 0 -> node 1\n",
        "A[2, 1], A[2, 2] = 1, -1    # branch 2: node 1 -> node 2\n",
        "A[3, 2], A[3, 3] = 1, -1    # branch 3: node 2 -> node 3\n",
        "A[4, 3] = 1    # branch 4: node 3 -> node 4\n",
        "A[5, 2], A[5, 0] = -1, 1    # branch 5: node 4 -> node 5\n",
        "A[6, 5], A[6, 4] = 1, -1    # branch 6: node 4 -> node 6\n",
        "A[7, 4]= 1    # branch 7: node 5 -> node 6\n",
        "A[8, 0] = 1                 # branch 8: -> node 7\n",
        "A[9, 0], A[9,5]= 1,-1    # branch 9: node 5 -> node 7\n",
        "A[10, 0] = 1                # branch 10: -> node 6\n",
        "\n",
        "# Conductance matrix\n",
        "G = np.array(np.hstack(\n",
        "    [Ufenetre* wall['Surface'].iloc[5] + rho_air*c_air*ACH*V/3600,\n",
        "     2 * G_cd['internal_wall'], 2 * G_cd['internal_wall'],\n",
        "     2 * G_cd['external_wall2'], 2 * G_cd['external_wall2'],\n",
        "     Usmallporte*wall['Surface'].iloc[3],\n",
        "     2 * G_cd['external_wall'], 2 * G_cd['external_wall'],\n",
        "     Uentryporte*wall['Surface'].iloc[4],\n",
        "     Gconv,\n",
        "     K]))\n",
        "Diag_G =np.diag(G)\n",
        "\n",
        "#Capacity matrix\n",
        "C = wall['Density'] * wall['Specific heat'] * wall['Surface'] * wall['Width']\n",
        "pd.DataFrame(C, columns=['Capacity'])\n",
        "\n",
        "C['Air'] = air['Density'] * air['Specific heat'] * V\n",
        "pd.DataFrame(C, columns=['Capacity'])\n",
        "\n",
        "C = np.array([0, C['internal_wall'], 0, C['external_wall2'], C['external_wall'], 0]) #on n' a pas mis la capacité thermique de l'air dans le vecteur C\n",
        "\n",
        "# Temperature source vector\n",
        "b = np.array([T1, 0,0,0, T0, 0, 0, T0, T0, 0, T2])\n",
        "\n",
        "# Flow-rate source vector\n",
        "f = pd.Series([0, 0, 0, 0, 0, 'Φ1'],\n",
        "              index=θ)\n",
        "\n",
        "# Output vector\n",
        "y = np.zeros(6)         # nodes\n",
        "y[[0]] = 1\n",
        "y[[2]] = 1         # nodes (temperatures) of interest\n",
        "pd.DataFrame(y, index=θ)\n",
        "\n",
        "# thermal circuit\n",
        "A = pd.DataFrame(A, index=q, columns=θ)\n",
        "G = pd.Series(G, index=q)\n",
        "C = pd.Series(C, index=θ)\n",
        "b = pd.Series(b, index=q)\n",
        "f = pd.Series(f, index=θ)\n",
        "y = pd.Series(y, index=θ)\n",
        "\n",
        "TC = {\"A\": A,\n",
        "      \"G\": G,\n",
        "      \"C\": C,\n",
        "      \"b\": b,\n",
        "      \"f\": f,\n",
        "      \"y\": y}\n",
        "\n"
      ],
      "metadata": {
        "id": "kzmpO8J_HK36"
      },
      "execution_count": 185,
      "outputs": []
    },
    {
      "cell_type": "markdown",
      "source": [
        "**State-space representation**"
      ],
      "metadata": {
        "id": "cZoxOA6nH57v"
      }
    },
    {
      "cell_type": "markdown",
      "source": [
        "On pose toutes les températures des voisins (T0) égales à 10°C"
      ],
      "metadata": {
        "id": "2JSK_ZbzMBEA"
      }
    },
    {
      "cell_type": "code",
      "source": [
        "[As, Bs, Cs, Ds, us] = dm4bem.tc2ss(TC)\n",
        "print(Cs)\n",
        "imposed_time_step = True\n",
        "Δt = 498    # s, imposed time step\n",
        "\n",
        "bss = np.zeros(11)        # temperature sources b for steady state\n",
        "bss[[4, 7, 8]] = 10      # neighboor temperature =10\n",
        "bss[[10]] = 20            # indoor set-point temperature\n",
        "\n",
        "fss = np.zeros(6)         # flow-rate sources f for steady state\n"
      ],
      "metadata": {
        "colab": {
          "base_uri": "https://localhost:8080/"
        },
        "id": "TmTpWRQtIQZF",
        "outputId": "3c17e952-d141-4d59-8567-56f6b66c1fcf"
      },
      "execution_count": 186,
      "outputs": [
        {
          "output_type": "stream",
          "name": "stdout",
          "text": [
            "          θ1        θ3        θ4\n",
            "θ0  0.001990  0.000147  0.001023\n",
            "θ2  0.457941  0.112422  0.000441\n"
          ]
        }
      ]
    },
    {
      "cell_type": "markdown",
      "source": [
        "Steady-state from differential algebraic equations (DAE)"
      ],
      "metadata": {
        "id": "XvrfmpVWIOmG"
      }
    },
    {
      "cell_type": "code",
      "source": [
        "\n",
        "##Steady-state from differential algebraic equations (DAE)\n",
        "\n",
        "\n",
        "diag_G = pd.DataFrame(np.diag(G), index=G.index, columns=G.index)\n",
        "\n",
        "θ = np.linalg.inv(A.T @ diag_G @ A) @ (A.T @ diag_G @ bss + fss)\n",
        "print(f'θ = {np.around(θ, 2)} °C')\n",
        "\n",
        "\n"
      ],
      "metadata": {
        "colab": {
          "base_uri": "https://localhost:8080/"
        },
        "id": "px0tBSvmH4_j",
        "outputId": "3eb0e52b-45dd-4984-8412-2819e0b14374"
      },
      "execution_count": 187,
      "outputs": [
        {
          "output_type": "stream",
          "name": "stdout",
          "text": [
            "θ = [19.57 19.19 18.81 14.41 14.7  19.41] °C\n"
          ]
        }
      ]
    },
    {
      "cell_type": "markdown",
      "source": [
        "Steady-state from state-space representation\n"
      ],
      "metadata": {
        "id": "7MLj90d1IUZo"
      }
    },
    {
      "cell_type": "code",
      "source": [
        "##Steady-state from state-space representation\n",
        "\n",
        "bT = np.array([T1, T0, T0, T0, T2])\n",
        "fQ = np.array([Φ1])\n",
        "uss = np.hstack([bT, fQ])           # input vector for state space\n",
        "print(f'uss = {uss}')\n",
        "\n",
        "\n",
        "\n",
        "inv_As = pd.DataFrame(np.linalg.inv(As),\n",
        "                      columns=As.index, index=As.index)\n",
        "yss = (-Cs @ inv_As @ Bs + Ds) @ uss\n",
        "yss = float(yss.values[0])\n",
        "print(f'yss = {yss:.2f} °C')\n",
        "\n"
      ],
      "metadata": {
        "id": "VnLUN8KlIXlB",
        "colab": {
          "base_uri": "https://localhost:8080/"
        },
        "outputId": "70a65da0-b38c-4a91-a143-1c6b819e4ca6"
      },
      "execution_count": 188,
      "outputs": [
        {
          "output_type": "stream",
          "name": "stdout",
          "text": [
            "uss = [  10   12   12   12   20 1000]\n",
            "yss = 19.87 °C\n"
          ]
        }
      ]
    },
    {
      "cell_type": "markdown",
      "source": [
        "Error between the steady-state values obtained from the system of DAE"
      ],
      "metadata": {
        "id": "viRLEovlOcAY"
      }
    },
    {
      "cell_type": "code",
      "source": [
        "##Error between the steady-state values obtained from the system of DAE\n",
        "\n",
        "print(f'Error between DAE and state-space: {abs(θ[0] - yss):.2e} °C')\n"
      ],
      "metadata": {
        "colab": {
          "base_uri": "https://localhost:8080/"
        },
        "id": "lOoa0tbpOXkK",
        "outputId": "b48bf04f-2901-4130-8c58-895d830a8103"
      },
      "execution_count": 189,
      "outputs": [
        {
          "output_type": "stream",
          "name": "stdout",
          "text": [
            "Error between DAE and state-space: 3.10e-01 °C\n"
          ]
        }
      ]
    },
    {
      "cell_type": "markdown",
      "source": [
        "**Eigenvalues analysis**"
      ],
      "metadata": {
        "id": "75601TktQvQ5"
      }
    },
    {
      "cell_type": "markdown",
      "source": [
        "Time step, Duration and Settling time"
      ],
      "metadata": {
        "id": "HOfcI7msRpYa"
      }
    },
    {
      "cell_type": "code",
      "source": [
        "# Eigenvalues analysis\n",
        "λ = np.linalg.eig(As)[0]        # eigenvalues of matrix As\n",
        "\n",
        "# time step\n",
        "Δtmax = 2 * min(-1. / λ)    # max time step for stability of Euler explicit\n",
        "dm4bem.print_rounded_time('Δtmax', Δtmax)\n",
        "\n",
        "if imposed_time_step:\n",
        "    dt = Δt\n",
        "else:\n",
        "    dt = dm4bem.round_time(Δtmax)\n",
        "dm4bem.print_rounded_time('dt', dt)\n",
        "\n",
        "\n",
        "if dt < 10:\n",
        "    raise ValueError(\"Time step is too small. Stopping the script.\")\n",
        "\n",
        "# settling time\n",
        "t_settle = 4 * max(-1 / λ)\n",
        "dm4bem.print_rounded_time('t_settle', t_settle)\n",
        "\n",
        "# duration: next multiple of 3600 s that is larger than t_settle\n",
        "duration = np.ceil(t_settle / 3600) * 3600\n",
        "dm4bem.print_rounded_time('duration', duration)\n"
      ],
      "metadata": {
        "colab": {
          "base_uri": "https://localhost:8080/"
        },
        "id": "ktzFrbsqQZwB",
        "outputId": "c7b3676d-ced1-4b2d-89c8-58050ed040be"
      },
      "execution_count": 190,
      "outputs": [
        {
          "output_type": "stream",
          "name": "stdout",
          "text": [
            "Δtmax = 36171 s = 10.0 h\n",
            "dt = 498 s = 8.3 min\n",
            "t_settle = 110598 s = 30.7 h\n",
            "duration = 111600 s = 31.0 h\n"
          ]
        }
      ]
    },
    {
      "cell_type": "code",
      "source": [
        "#Step response to outdoor temperature\n",
        "\n",
        "\n",
        "# Vecteur de temps\n",
        "n = int(np.floor(duration / dt))\n",
        "time = pd.date_range(start=\"2000-01-01 00:00:00\", periods=n, freq=f\"{int(dt)}s\")\n",
        "\n",
        "# Initialisation des données\n",
        "T0 = 12 * np.ones(n)\n",
        "T1 = 10 * np.ones(n)\n",
        "T2 = 20 * np.ones(n)\n",
        "Φ1 = 1000 * np.ones(n)\n",
        "\n",
        "# Création du DataFrame\n",
        "data = {\n",
        "    'q0': T1,\n",
        "    'q4': T0,\n",
        "    'q7': T0,\n",
        "    'q8': T0,\n",
        "    'q10': T2,\n",
        "    'θ5': T1  # ou T0, selon votre choix\n",
        "}\n",
        "input_data_set = pd.DataFrame(data, index=time)\n",
        "\n",
        "\n",
        "# inputs in time from input_data_set\n",
        "u = input_data_set[us.index]\n",
        "print(u)\n",
        "\n",
        "#u = dm4bem.inputs_in_time(us, input_data_set)"
      ],
      "metadata": {
        "id": "WtZP-Wtc_VJT",
        "colab": {
          "base_uri": "https://localhost:8080/"
        },
        "outputId": "6fa284fb-a28a-437f-e1d9-7f3d2f700fbd"
      },
      "execution_count": 191,
      "outputs": [
        {
          "output_type": "stream",
          "name": "stdout",
          "text": [
            "                       q0    q4    q7    q8   q10    θ5\n",
            "2000-01-01 00:00:00  10.0  12.0  12.0  12.0  20.0  10.0\n",
            "2000-01-01 00:08:18  10.0  12.0  12.0  12.0  20.0  10.0\n",
            "2000-01-01 00:16:36  10.0  12.0  12.0  12.0  20.0  10.0\n",
            "2000-01-01 00:24:54  10.0  12.0  12.0  12.0  20.0  10.0\n",
            "2000-01-01 00:33:12  10.0  12.0  12.0  12.0  20.0  10.0\n",
            "...                   ...   ...   ...   ...   ...   ...\n",
            "2000-01-02 06:17:42  10.0  12.0  12.0  12.0  20.0  10.0\n",
            "2000-01-02 06:26:00  10.0  12.0  12.0  12.0  20.0  10.0\n",
            "2000-01-02 06:34:18  10.0  12.0  12.0  12.0  20.0  10.0\n",
            "2000-01-02 06:42:36  10.0  12.0  12.0  12.0  20.0  10.0\n",
            "2000-01-02 06:50:54  10.0  12.0  12.0  12.0  20.0  10.0\n",
            "\n",
            "[224 rows x 6 columns]\n"
          ]
        }
      ]
    },
    {
      "cell_type": "code",
      "source": [
        "#Time integration\n",
        "\n",
        "# Initial conditions\n",
        "θ_exp = pd.DataFrame(index=u.index)     # empty df with index for explicit Euler\n",
        "θ_imp = pd.DataFrame(index=u.index)     # empty df with index for implicit Euler\n",
        "\n",
        "θ0 = 0.0                    # initial temperatures\n",
        "θ_exp[As.columns] = θ0      # fill θ for Euler explicit with initial values θ0\n",
        "θ_imp[As.columns] = θ0      # fill θ for Euler implicit with initial values θ0\n",
        "\n",
        "I = np.eye(As.shape[0])     # identity matrix\n",
        "for k in range(u.shape[0] - 1):\n",
        "    θ_exp.iloc[k + 1] = (I + dt * As)\\\n",
        "        @ θ_exp.iloc[k] + dt * Bs @ u.iloc[k]\n",
        "    θ_imp.iloc[k + 1] = np.linalg.inv(I - dt * As)\\\n",
        "        @ (θ_imp.iloc[k] + dt * Bs @ u.iloc[k])\n",
        "\n",
        "\n",
        "# outputs\n",
        "y_exp = (Cs @ θ_exp.T + Ds @  u.T).T\n",
        "y_imp = (Cs @ θ_imp.T + Ds @  u.T).T\n",
        "# Select the desired output column (e.g., 'θ0')\n",
        "y_exp_theta2 = y_exp['θ2']\n",
        "y_imp_theta2 = y_imp['θ2']\n",
        "\n",
        "\n",
        "# Combine only the selected output for Explicit and Implicit results for plotting\n",
        "y = pd.concat([y_exp_theta2, y_imp_theta2], axis=1, keys=['Explicit', 'Implicit'])\n",
        "# Flatten the two-level column labels into a single level\n",
        "y.columns = y.columns.get_level_values(0)\n",
        "\n",
        "# Plot the results\n",
        "ax = y.plot()\n",
        "ax.set_xlabel('Time')\n",
        "ax.set_ylabel('Indoor temperature, $\\\\theta_i$ / °C')\n",
        "# Ensure dt and Δtmax are defined if you want to include them in the title\n",
        "# ax.set_title(f'Time step: $dt$ = {dt:.0f} s; $dt_{{max}}$ = {Δtmax:.0f} s')\n",
        "plt.show()\n",
        "\n",
        "print('Steady-state indoor temperature obtained with:')\n",
        "print(f'- DAE model: {float(θ[0]):.4f} °C')\n",
        "print(f'- state-space model: {float(yss):.4f} °C')\n",
        "print(f'- steady-state response to step input: \\\n",
        "{y_exp[\"θ2\"].tail(1).values[0]:.4f} °C')"
      ],
      "metadata": {
        "colab": {
          "base_uri": "https://localhost:8080/",
          "height": 551
        },
        "id": "gmM9QvdmW8GZ",
        "outputId": "5257e14c-3c63-40ce-a306-40ff3d6fc16b"
      },
      "execution_count": 192,
      "outputs": [
        {
          "output_type": "display_data",
          "data": {
            "text/plain": [
              "<Figure size 640x480 with 1 Axes>"
            ],
            "image/png": "[encoded data removed]"
          },
          "metadata": {}
        },
        {
          "output_type": "stream",
          "name": "stdout",
          "text": [
            "Steady-state indoor temperature obtained with:\n",
            "- DAE model: 19.5650 °C\n",
            "- state-space model: 19.8746 °C\n",
            "- steady-state response to step input: 19.0690 °C\n"
          ]
        }
      ]
    },
    {
      "cell_type": "markdown",
      "source": [
        "**Discussion**"
      ],
      "metadata": {
        "id": "Tgp6Lyx6aNMj"
      }
    },
    {
      "cell_type": "markdown",
      "source": [],
      "metadata": {
        "id": "Zhqi4N7aIZYx"
      }
    },
    {
      "cell_type": "code",
      "source": [],
      "metadata": {
        "id": "UgpkSOfYiBUz"
      },
      "execution_count": 192,
      "outputs": []
    },
    {
      "cell_type": "markdown",
      "source": [
        "Influence of time step"
      ],
      "metadata": {
        "id": "DeAxFhKL5CvS"
      }
    },
    {
      "cell_type": "markdown",
      "source": [
        "**Weather**"
      ],
      "metadata": {
        "id": "dDjN090Q6YNu"
      }
    },
    {
      "cell_type": "code",
      "source": [
        "start_date = '02-01 12:00:00'\n",
        "end_date = '02-07 18:00:00'\n",
        "start_date = '2000-' + start_date\n",
        "end_date = '2000-' + end_date\n",
        "print(f'{start_date} \\tstart date')\n",
        "print(f'{end_date} \\tend date')\n",
        "filename = './weather_data/FRA_Lyon.074810_IWEC.epw'\n",
        "[data, meta] = dm4bem.read_epw(filename, coerce_year=None)\n",
        "weather = data[[\"temp_air\", \"dir_n_rad\", \"dif_h_rad\"]]\n",
        "del data\n",
        "weather.index = weather.index.map(lambda t: t.replace(year=2000))\n",
        "weather = weather.loc[start_date:end_date]\n",
        "\n",
        "# Temperature sources\n",
        "T1 = weather['temp_air']\n",
        "\n",
        "# total solar irradiance\n",
        "external_wall = pd.read_csv('./bldg/external_wall.csv')\n",
        "w0 = external_wall[external_wall['ID'] == 'w0']\n",
        "\n",
        "surface_orientation = {'slope': w0['β'].values[0],\n",
        "                       'azimuth': w0['γ'].values[0],\n",
        "                       'latitude': 45}\n",
        "\n",
        "rad_surf = dm4bem.sol_rad_tilt_surf(\n",
        "    weather, surface_orientation, w0['albedo'].values[0])\n",
        "\n",
        "Etot = rad_surf.sum(axis=1)\n",
        "\n",
        "S_g = 9         # m², surface area of glass\n",
        "\n",
        "# solar radiation absorbed by the outdoor surface of the wall\n",
        "Φo = w0['α1'].values[0] * w0['Area'].values[0] * Etot\n",
        "\n",
        "\n",
        "# solar radiation absorbed by the indoor surface of the wall\n",
        "Φi = τ_gSW * w0['α0'].values[0] * S_g * Etot\n",
        "\n",
        "# solar radiation absorbed by the glass\n",
        "Φa = α_gSW * S_g * Etot\n",
        "\n"
      ],
      "metadata": {
        "id": "UBtZUl8en94p",
        "colab": {
          "base_uri": "https://localhost:8080/"
        },
        "outputId": "2538a7d0-2bc4-4e91-fd6f-0c76fcb90a7c"
      },
      "execution_count": 193,
      "outputs": [
        {
          "output_type": "stream",
          "name": "stdout",
          "text": [
            "2000-02-01 12:00:00 \tstart date\n",
            "2000-02-07 18:00:00 \tend date\n"
          ]
        }
      ]
    },
    {
      "cell_type": "markdown",
      "source": [
        "**Schedules**"
      ],
      "metadata": {
        "id": "IX55MZf1Dkiz"
      }
    },
    {
      "cell_type": "code",
      "source": [
        "# indoor air temperature set-point\n",
        "T2 = pd.Series(20, index=T1.index)\n",
        "\n",
        "Ti_day, Ti_night = 20, 16\n",
        "\n",
        "T2 = pd.Series(\n",
        "    [Ti_day if 6 <= hour <= 22 else Ti_night for hour in T1.index.hour],\n",
        "    index=T1.index)\n",
        "\n",
        "# Ensure T0 and Φ1 have the same index as the other variables\n",
        "T0 = pd.Series(12, index=T1.index)\n",
        "Φ1 = pd.Series(1000, index=T1.index)\n",
        "\n",
        "# Input data set\n",
        "input_data_set = pd.DataFrame({'T0': T0, 'T1': T1, 'T2': T2, 'Φ1': Φ1,\n",
        "                               'Etot': Etot})\n",
        "input_data_set.to_csv('./input_data_set.csv')"
      ],
      "metadata": {
        "id": "PrbgKUcG7yim"
      },
      "execution_count": 194,
      "outputs": []
    },
    {
      "cell_type": "markdown",
      "source": [
        "**Simulation: perfect controller**"
      ],
      "metadata": {
        "id": "JnPRJGieGtip"
      }
    },
    {
      "cell_type": "code",
      "source": [
        "controller = True\n",
        "\n",
        "neglect_air_capacity = True\n",
        "neglect_glass_capacity = True\n",
        "\n",
        "explicit_Euler = True\n",
        "\n",
        "imposed_time_step = False\n",
        "Δt = 3600    # s, imposed time step\n",
        "\n",
        "# MODEL\n",
        "\n",
        "# by default TC['G']['q11'] = 0 # Kp -> 0, no controller (free-floating\n",
        "if controller:\n",
        "    TC['G']['q11'] = K     # G11 = Kp, conductance of edge q11\n",
        "                            # Kp -> ∞, almost perfect controller\n",
        "if neglect_air_capacity:\n",
        "    TC['C']['θ6'] = 0       # C6, capacity of vertex θ6 (air)\n",
        "if neglect_glass_capacity:\n",
        "    TC['C']['θ7'] = 0       # C7, capacity of vertex θ7 (glass)\n",
        "\n",
        "\n",
        "λ = np.linalg.eig(As)[0]    # eigenvalues of matrix As\n",
        "dtmax = 2 * min(-1. / λ)    # max time step for Euler explicit stability\n",
        "dt = dm4bem.round_time(dtmax)\n",
        "\n",
        "if imposed_time_step:\n",
        "    dt = Δt\n",
        "\n",
        "dm4bem.print_rounded_time('dt', dt)"
      ],
      "metadata": {
        "id": "-S4tytbXG5sG",
        "colab": {
          "base_uri": "https://localhost:8080/"
        },
        "outputId": "ed6e4497-e581-4d24-b6c0-c89dd9ddd1a0"
      },
      "execution_count": 195,
      "outputs": [
        {
          "output_type": "stream",
          "name": "stdout",
          "text": [
            "dt = 21600 s = 6.0 h\n"
          ]
        }
      ]
    },
    {
      "cell_type": "markdown",
      "source": [
        "**Input data set**"
      ],
      "metadata": {
        "id": "MZGjvL7cJqjJ"
      }
    },
    {
      "cell_type": "code",
      "source": [
        "# Flow-rate sources from f (in order of node index): θ5 (Φ1)\n",
        "\n",
        "# The actual mapping depends on the internal logic of dm4bem.tc2ss.\n",
        "# However, if the state-space inputs correspond to the non-zero entries\n",
        "# of the b and f vectors in that order, the mapping should be:\n",
        "us = pd.Series(['T1', 'T0', 'T0', 'T0', 'T2', 'Φ1'],\n",
        "               index=[0, 1, 2, 3, 4, 5]) # Assuming 6 state-space inputs\n",
        "\n",
        "# INPUT DATA SET\n",
        "# ==============\n",
        "input_data_set = pd.read_csv('./input_data_set.csv',\n",
        "                             index_col=0,\n",
        "                             parse_dates=True)\n",
        "input_data_set\n",
        "# print(u) # This print statement should be removed or moved after u is defined in this cell\n",
        "\n",
        "input_data_set = input_data_set.resample(\n",
        "    str(dt) + 's').interpolate(method='linear')\n",
        "input_data_set.head()\n",
        "\n",
        "# Input vector in time from input_data_set\n",
        "# Now, dm4bem.inputs_in_time should look up the correct columns in input_data_set\n",
        "# using the values in the manually corrected us Series.\n",
        "u = dm4bem.inputs_in_time(us, input_data_set)\n",
        "u.head()\n"
      ],
      "metadata": {
        "colab": {
          "base_uri": "https://localhost:8080/",
          "height": 206
        },
        "id": "rPdAyG-4Js7t",
        "outputId": "f5e07b7c-88ee-4b33-e19f-612c26e4994e"
      },
      "execution_count": 196,
      "outputs": [
        {
          "output_type": "execute_result",
          "data": {
            "text/plain": [
              "                              0   1   2   3   4     5\n",
              "2000-02-01 12:00:00+01:00  10.0  12  12  12  20  1000\n",
              "2000-02-01 18:00:00+01:00   8.0  12  12  12  20  1000\n",
              "2000-02-02 00:00:00+01:00   7.3  12  12  12  16  1000\n",
              "2000-02-02 06:00:00+01:00   6.7  12  12  12  20  1000\n",
              "2000-02-02 12:00:00+01:00  11.8  12  12  12  20  1000"
            ],
            "text/html": [
              "\n",
              "  <div id=\"df-acb70170-7907-4b4d-ad4a-a590a47bf5bc\" class=\"colab-df-container\">\n",
              "    <div>\n",
              "<style scoped>\n",
              "    .dataframe tbody tr th:only-of-type {\n",
              "        vertical-align: middle;\n",
              "    }\n",
              "\n",
              "    .dataframe tbody tr th {\n",
              "        vertical-align: top;\n",
              "    }\n",
              "\n",
              "    .dataframe thead th {\n",
              "        text-align: right;\n",
              "    }\n",
              "</style>\n",
              "<table border=\"1\" class=\"dataframe\">\n",
              "  <thead>\n",
              "    <tr style=\"text-align: right;\">\n",
              "      <th></th>\n",
              "      <th>0</th>\n",
              "      <th>1</th>\n",
              "      <th>2</th>\n",
              "      <th>3</th>\n",
              "      <th>4</th>\n",
              "      <th>5</th>\n",
              "    </tr>\n",
              "  </thead>\n",
              "  <tbody>\n",
              "    <tr>\n",
              "      <th>2000-02-01 12:00:00+01:00</th>\n",
              "      <td>10.0</td>\n",
              "      <td>12</td>\n",
              "      <td>12</td>\n",
              "      <td>12</td>\n",
              "      <td>20</td>\n",
              "      <td>1000</td>\n",
              "    </tr>\n",
              "    <tr>\n",
              "      <th>2000-02-01 18:00:00+01:00</th>\n",
              "      <td>8.0</td>\n",
              "      <td>12</td>\n",
              "      <td>12</td>\n",
              "      <td>12</td>\n",
              "      <td>20</td>\n",
              "      <td>1000</td>\n",
              "    </tr>\n",
              "    <tr>\n",
              "      <th>2000-02-02 00:00:00+01:00</th>\n",
              "      <td>7.3</td>\n",
              "      <td>12</td>\n",
              "      <td>12</td>\n",
              "      <td>12</td>\n",
              "      <td>16</td>\n",
              "      <td>1000</td>\n",
              "    </tr>\n",
              "    <tr>\n",
              "      <th>2000-02-02 06:00:00+01:00</th>\n",
              "      <td>6.7</td>\n",
              "      <td>12</td>\n",
              "      <td>12</td>\n",
              "      <td>12</td>\n",
              "      <td>20</td>\n",
              "      <td>1000</td>\n",
              "    </tr>\n",
              "    <tr>\n",
              "      <th>2000-02-02 12:00:00+01:00</th>\n",
              "      <td>11.8</td>\n",
              "      <td>12</td>\n",
              "      <td>12</td>\n",
              "      <td>12</td>\n",
              "      <td>20</td>\n",
              "      <td>1000</td>\n",
              "    </tr>\n",
              "  </tbody>\n",
              "</table>\n",
              "</div>\n",
              "    <div class=\"colab-df-buttons\">\n",
              "\n",
              "  <div class=\"colab-df-container\">\n",
              "    <button class=\"colab-df-convert\" onclick=\"convertToInteractive('df-acb70170-7907-4b4d-ad4a-a590a47bf5bc')\"\n",
              "            title=\"Convert this dataframe to an interactive table.\"\n",
              "            style=\"display:none;\">\n",
              "\n",
              "  <svg xmlns=\"http://www.w3.org/2000/svg\" height=\"24px\" viewBox=\"0 -960 960 960\">\n",
              "    <path d=\"M120-120v-720h720v720H120Zm60-500h600v-160H180v160Zm220 220h160v-160H400v160Zm0 220h160v-160H400v160ZM180-400h160v-160H180v160Zm440 0h160v-160H620v160ZM180-180h160v-160H180v160Zm440 0h160v-160H620v160Z\"/>\n",
              "  </svg>\n",
              "    </button>\n",
              "\n",
              "  <style>\n",
              "    .colab-df-container {\n",
              "      display:flex;\n",
              "      gap: 12px;\n",
              "    }\n",
              "\n",
              "    .colab-df-convert {\n",
              "      background-color: #E8F0FE;\n",
              "      border: none;\n",
              "      border-radius: 50%;\n",
              "      cursor: pointer;\n",
              "      display: none;\n",
              "      fill: #1967D2;\n",
              "      height: 32px;\n",
              "      padding: 0 0 0 0;\n",
              "      width: 32px;\n",
              "    }\n",
              "\n",
              "    .colab-df-convert:hover {\n",
              "      background-color: #E2EBFA;\n",
              "      box-shadow: 0px 1px 2px rgba(60, 64, 67, 0.3), 0px 1px 3px 1px rgba(60, 64, 67, 0.15);\n",
              "      fill: #174EA6;\n",
              "    }\n",
              "\n",
              "    .colab-df-buttons div {\n",
              "      margin-bottom: 4px;\n",
              "    }\n",
              "\n",
              "    [theme=dark] .colab-df-convert {\n",
              "      background-color: #3B4455;\n",
              "      fill: #D2E3FC;\n",
              "    }\n",
              "\n",
              "    [theme=dark] .colab-df-convert:hover {\n",
              "      background-color: #434B5C;\n",
              "      box-shadow: 0px 1px 3px 1px rgba(0, 0, 0, 0.15);\n",
              "      filter: drop-shadow(0px 1px 2px rgba(0, 0, 0, 0.3));\n",
              "      fill: #FFFFFF;\n",
              "    }\n",
              "  </style>\n",
              "\n",
              "    <script>\n",
              "      const buttonEl =\n",
              "        document.querySelector('#df-acb70170-7907-4b4d-ad4a-a590a47bf5bc button.colab-df-convert');\n",
              "      buttonEl.style.display =\n",
              "        google.colab.kernel.accessAllowed ? 'block' : 'none';\n",
              "\n",
              "      async function convertToInteractive(key) {\n",
              "        const element = document.querySelector('#df-acb70170-7907-4b4d-ad4a-a590a47bf5bc');\n",
              "        const dataTable =\n",
              "          await google.colab.kernel.invokeFunction('convertToInteractive',\n",
              "                                                    [key], {});\n",
              "        if (!dataTable) return;\n",
              "\n",
              "        const docLinkHtml = 'Like what you see? Visit the ' +\n",
              "          '<a target=\"_blank\" href=https://colab.research.google.com/notebooks/data_table.ipynb>data table notebook</a>'\n",
              "          + ' to learn more about interactive tables.';\n",
              "        element.innerHTML = '';\n",
              "        dataTable['output_type'] = 'display_data';\n",
              "        await google.colab.output.renderOutput(dataTable, element);\n",
              "        const docLink = document.createElement('div');\n",
              "        docLink.innerHTML = docLinkHtml;\n",
              "        element.appendChild(docLink);\n",
              "      }\n",
              "    </script>\n",
              "  </div>\n",
              "\n",
              "\n",
              "    <div id=\"df-54a230d5-ebb3-4468-8838-5595db4ea672\">\n",
              "      <button class=\"colab-df-quickchart\" onclick=\"quickchart('df-54a230d5-ebb3-4468-8838-5595db4ea672')\"\n",
              "                title=\"Suggest charts\"\n",
              "                style=\"display:none;\">\n",
              "\n",
              "<svg xmlns=\"http://www.w3.org/2000/svg\" height=\"24px\"viewBox=\"0 0 24 24\"\n",
              "     width=\"24px\">\n",
              "    <g>\n",
              "        <path d=\"M19 3H5c-1.1 0-2 .9-2 2v14c0 1.1.9 2 2 2h14c1.1 0 2-.9 2-2V5c0-1.1-.9-2-2-2zM9 17H7v-7h2v7zm4 0h-2V7h2v10zm4 0h-2v-4h2v4z\"/>\n",
              "    </g>\n",
              "</svg>\n",
              "      </button>\n",
              "\n",
              "<style>\n",
              "  .colab-df-quickchart {\n",
              "      --bg-color: #E8F0FE;\n",
              "      --fill-color: #1967D2;\n",
              "      --hover-bg-color: #E2EBFA;\n",
              "      --hover-fill-color: #174EA6;\n",
              "      --disabled-fill-color: #AAA;\n",
              "      --disabled-bg-color: #DDD;\n",
              "  }\n",
              "\n",
              "  [theme=dark] .colab-df-quickchart {\n",
              "      --bg-color: #3B4455;\n",
              "      --fill-color: #D2E3FC;\n",
              "      --hover-bg-color: #434B5C;\n",
              "      --hover-fill-color: #FFFFFF;\n",
              "      --disabled-bg-color: #3B4455;\n",
              "      --disabled-fill-color: #666;\n",
              "  }\n",
              "\n",
              "  .colab-df-quickchart {\n",
              "    background-color: var(--bg-color);\n",
              "    border: none;\n",
              "    border-radius: 50%;\n",
              "    cursor: pointer;\n",
              "    display: none;\n",
              "    fill: var(--fill-color);\n",
              "    height: 32px;\n",
              "    padding: 0;\n",
              "    width: 32px;\n",
              "  }\n",
              "\n",
              "  .colab-df-quickchart:hover {\n",
              "    background-color: var(--hover-bg-color);\n",
              "    box-shadow: 0 1px 2px rgba(60, 64, 67, 0.3), 0 1px 3px 1px rgba(60, 64, 67, 0.15);\n",
              "    fill: var(--button-hover-fill-color);\n",
              "  }\n",
              "\n",
              "  .colab-df-quickchart-complete:disabled,\n",
              "  .colab-df-quickchart-complete:disabled:hover {\n",
              "    background-color: var(--disabled-bg-color);\n",
              "    fill: var(--disabled-fill-color);\n",
              "    box-shadow: none;\n",
              "  }\n",
              "\n",
              "  .colab-df-spinner {\n",
              "    border: 2px solid var(--fill-color);\n",
              "    border-color: transparent;\n",
              "    border-bottom-color: var(--fill-color);\n",
              "    animation:\n",
              "      spin 1s steps(1) infinite;\n",
              "  }\n",
              "\n",
              "  @keyframes spin {\n",
              "    0% {\n",
              "      border-color: transparent;\n",
              "      border-bottom-color: var(--fill-color);\n",
              "      border-left-color: var(--fill-color);\n",
              "    }\n",
              "    20% {\n",
              "      border-color: transparent;\n",
              "      border-left-color: var(--fill-color);\n",
              "      border-top-color: var(--fill-color);\n",
              "    }\n",
              "    30% {\n",
              "      border-color: transparent;\n",
              "      border-left-color: var(--fill-color);\n",
              "      border-top-color: var(--fill-color);\n",
              "      border-right-color: var(--fill-color);\n",
              "    }\n",
              "    40% {\n",
              "      border-color: transparent;\n",
              "      border-right-color: var(--fill-color);\n",
              "      border-top-color: var(--fill-color);\n",
              "    }\n",
              "    60% {\n",
              "      border-color: transparent;\n",
              "      border-right-color: var(--fill-color);\n",
              "    }\n",
              "    80% {\n",
              "      border-color: transparent;\n",
              "      border-right-color: var(--fill-color);\n",
              "      border-bottom-color: var(--fill-color);\n",
              "    }\n",
              "    90% {\n",
              "      border-color: transparent;\n",
              "      border-bottom-color: var(--fill-color);\n",
              "    }\n",
              "  }\n",
              "</style>\n",
              "\n",
              "      <script>\n",
              "        async function quickchart(key) {\n",
              "          const quickchartButtonEl =\n",
              "            document.querySelector('#' + key + ' button');\n",
              "          quickchartButtonEl.disabled = true;  // To prevent multiple clicks.\n",
              "          quickchartButtonEl.classList.add('colab-df-spinner');\n",
              "          try {\n",
              "            const charts = await google.colab.kernel.invokeFunction(\n",
              "                'suggestCharts', [key], {});\n",
              "          } catch (error) {\n",
              "            console.error('Error during call to suggestCharts:', error);\n",
              "          }\n",
              "          quickchartButtonEl.classList.remove('colab-df-spinner');\n",
              "          quickchartButtonEl.classList.add('colab-df-quickchart-complete');\n",
              "        }\n",
              "        (() => {\n",
              "          let quickchartButtonEl =\n",
              "            document.querySelector('#df-54a230d5-ebb3-4468-8838-5595db4ea672 button');\n",
              "          quickchartButtonEl.style.display =\n",
              "            google.colab.kernel.accessAllowed ? 'block' : 'none';\n",
              "        })();\n",
              "      </script>\n",
              "    </div>\n",
              "\n",
              "    </div>\n",
              "  </div>\n"
            ],
            "application/vnd.google.colaboratory.intrinsic+json": {
              "type": "dataframe",
              "variable_name": "u",
              "summary": "{\n  \"name\": \"u\",\n  \"rows\": 26,\n  \"fields\": [\n    {\n      \"column\": 0,\n      \"properties\": {\n        \"dtype\": \"number\",\n        \"std\": 3.025003496501476,\n        \"min\": 1.0,\n        \"max\": 12.9,\n        \"num_unique_values\": 22,\n        \"samples\": [\n          10.0,\n          8.4,\n          11.0\n        ],\n        \"semantic_type\": \"\",\n        \"description\": \"\"\n      }\n    },\n    {\n      \"column\": 1,\n      \"properties\": {\n        \"dtype\": \"number\",\n        \"std\": 0,\n        \"min\": 12,\n        \"max\": 12,\n        \"num_unique_values\": 1,\n        \"samples\": [\n          12\n        ],\n        \"semantic_type\": \"\",\n        \"description\": \"\"\n      }\n    },\n    {\n      \"column\": 2,\n      \"properties\": {\n        \"dtype\": \"number\",\n        \"std\": 0,\n        \"min\": 12,\n        \"max\": 12,\n        \"num_unique_values\": 1,\n        \"samples\": [\n          12\n        ],\n        \"semantic_type\": \"\",\n        \"description\": \"\"\n      }\n    },\n    {\n      \"column\": 3,\n      \"properties\": {\n        \"dtype\": \"number\",\n        \"std\": 0,\n        \"min\": 12,\n        \"max\": 12,\n        \"num_unique_values\": 1,\n        \"samples\": [\n          12\n        ],\n        \"semantic_type\": \"\",\n        \"description\": \"\"\n      }\n    },\n    {\n      \"column\": 4,\n      \"properties\": {\n        \"dtype\": \"number\",\n        \"std\": 1,\n        \"min\": 16,\n        \"max\": 20,\n        \"num_unique_values\": 2,\n        \"samples\": [\n          16\n        ],\n        \"semantic_type\": \"\",\n        \"description\": \"\"\n      }\n    },\n    {\n      \"column\": 5,\n      \"properties\": {\n        \"dtype\": \"number\",\n        \"std\": 0,\n        \"min\": 1000,\n        \"max\": 1000,\n        \"num_unique_values\": 1,\n        \"samples\": [\n          1000\n        ],\n        \"semantic_type\": \"\",\n        \"description\": \"\"\n      }\n    }\n  ]\n}"
            }
          },
          "metadata": {},
          "execution_count": 196
        }
      ]
    },
    {
      "cell_type": "markdown",
      "source": [
        "**Initial conditions**"
      ],
      "metadata": {
        "id": "bJ0ZMX-DGIRo"
      }
    },
    {
      "cell_type": "code",
      "source": [
        "# Initial conditions\n",
        "θ0 = 20.0                   # °C, initial temperatures\n",
        "θ = pd.DataFrame(index=u.index)\n",
        "θ[As.columns] = θ0          # fill θ with initial valeus θ0\n",
        "for k in range(u.shape[0] - 1):\n",
        "    # Calculer le nouveau vecteur d'état (résultat est un tableau NumPy)\n",
        "    new_state_np = (I + dt * As) @ θ.iloc[k].values + dt * Bs @ u.iloc[k].values\n",
        "\n",
        "    # Convertir le tableau NumPy en une Série Pandas avec les mêmes noms de colonnes que θ\n",
        "    new_state_series = pd.Series(new_state_np, index=θ.columns)\n",
        "\n",
        "    # Assigner la Série au DataFrame θ à la ligne k+1\n",
        "    θ.iloc[k + 1] = new_state_series\n",
        "\n",
        "\n",
        "# Calculer le résultat du modèle d'espace d'état (tableau NumPy)\n",
        "y_np = (Cs.values @ θ.T.values + Ds.values @  u.T.values).T\n",
        "\n",
        "# Convertir le tableau NumPy en DataFrame Pandas en utilisant les noms de colonnes de Cs\n",
        "y = pd.DataFrame(y_np, index=u.index, columns=Cs.index)\n",
        "\n",
        "\n",
        "Kp = K\n",
        "S = 9                   # m², surface area of the toy house\n",
        "q_HVAC = Kp * (u.loc[:, 5] - y['θ0']) / S  # W/m²\n",
        "y['θ0']"
      ],
      "metadata": {
        "colab": {
          "base_uri": "https://localhost:8080/",
          "height": 899
        },
        "id": "Qcxp-HzfGGFG",
        "outputId": "de2b0e9b-41c6-42e7-eb6d-5d1048816555"
      },
      "execution_count": 202,
      "outputs": [
        {
          "output_type": "execute_result",
          "data": {
            "text/plain": [
              "2000-02-01 12:00:00+01:00    19.878799\n",
              "2000-02-01 18:00:00+01:00    19.833675\n",
              "2000-02-02 00:00:00+01:00    15.917259\n",
              "2000-02-02 06:00:00+01:00    19.795055\n",
              "2000-02-02 12:00:00+01:00    19.913040\n",
              "2000-02-02 18:00:00+01:00    19.857551\n",
              "2000-02-03 00:00:00+01:00    15.952955\n",
              "2000-02-03 06:00:00+01:00    19.811916\n",
              "2000-02-03 12:00:00+01:00    19.896252\n",
              "2000-02-03 18:00:00+01:00    19.853299\n",
              "2000-02-04 00:00:00+01:00    15.826774\n",
              "2000-02-04 06:00:00+01:00    19.674900\n",
              "2000-02-04 12:00:00+01:00    19.769747\n",
              "2000-02-04 18:00:00+01:00    19.747841\n",
              "2000-02-05 00:00:00+01:00    15.931659\n",
              "2000-02-05 06:00:00+01:00    19.830795\n",
              "2000-02-05 12:00:00+01:00    19.896295\n",
              "2000-02-05 18:00:00+01:00    19.838574\n",
              "2000-02-06 00:00:00+01:00    15.873002\n",
              "2000-02-06 06:00:00+01:00    19.759139\n",
              "2000-02-06 12:00:00+01:00    19.936084\n",
              "2000-02-06 18:00:00+01:00    19.863919\n",
              "2000-02-07 00:00:00+01:00    15.877259\n",
              "2000-02-07 06:00:00+01:00    19.712885\n",
              "2000-02-07 12:00:00+01:00    19.761425\n",
              "2000-02-07 18:00:00+01:00    19.752023\n",
              "Freq: 21600s, Name: θ0, dtype: float64"
            ],
            "text/html": [
              "<div>\n",
              "<style scoped>\n",
              "    .dataframe tbody tr th:only-of-type {\n",
              "        vertical-align: middle;\n",
              "    }\n",
              "\n",
              "    .dataframe tbody tr th {\n",
              "        vertical-align: top;\n",
              "    }\n",
              "\n",
              "    .dataframe thead th {\n",
              "        text-align: right;\n",
              "    }\n",
              "</style>\n",
              "<table border=\"1\" class=\"dataframe\">\n",
              "  <thead>\n",
              "    <tr style=\"text-align: right;\">\n",
              "      <th></th>\n",
              "      <th>θ0</th>\n",
              "    </tr>\n",
              "  </thead>\n",
              "  <tbody>\n",
              "    <tr>\n",
              "      <th>2000-02-01 12:00:00+01:00</th>\n",
              "      <td>19.878799</td>\n",
              "    </tr>\n",
              "    <tr>\n",
              "      <th>2000-02-01 18:00:00+01:00</th>\n",
              "      <td>19.833675</td>\n",
              "    </tr>\n",
              "    <tr>\n",
              "      <th>2000-02-02 00:00:00+01:00</th>\n",
              "      <td>15.917259</td>\n",
              "    </tr>\n",
              "    <tr>\n",
              "      <th>2000-02-02 06:00:00+01:00</th>\n",
              "      <td>19.795055</td>\n",
              "    </tr>\n",
              "    <tr>\n",
              "      <th>2000-02-02 12:00:00+01:00</th>\n",
              "      <td>19.913040</td>\n",
              "    </tr>\n",
              "    <tr>\n",
              "      <th>2000-02-02 18:00:00+01:00</th>\n",
              "      <td>19.857551</td>\n",
              "    </tr>\n",
              "    <tr>\n",
              "      <th>2000-02-03 00:00:00+01:00</th>\n",
              "      <td>15.952955</td>\n",
              "    </tr>\n",
              "    <tr>\n",
              "      <th>2000-02-03 06:00:00+01:00</th>\n",
              "      <td>19.811916</td>\n",
              "    </tr>\n",
              "    <tr>\n",
              "      <th>2000-02-03 12:00:00+01:00</th>\n",
              "      <td>19.896252</td>\n",
              "    </tr>\n",
              "    <tr>\n",
              "      <th>2000-02-03 18:00:00+01:00</th>\n",
              "      <td>19.853299</td>\n",
              "    </tr>\n",
              "    <tr>\n",
              "      <th>2000-02-04 00:00:00+01:00</th>\n",
              "      <td>15.826774</td>\n",
              "    </tr>\n",
              "    <tr>\n",
              "      <th>2000-02-04 06:00:00+01:00</th>\n",
              "      <td>19.674900</td>\n",
              "    </tr>\n",
              "    <tr>\n",
              "      <th>2000-02-04 12:00:00+01:00</th>\n",
              "      <td>19.769747</td>\n",
              "    </tr>\n",
              "    <tr>\n",
              "      <th>2000-02-04 18:00:00+01:00</th>\n",
              "      <td>19.747841</td>\n",
              "    </tr>\n",
              "    <tr>\n",
              "      <th>2000-02-05 00:00:00+01:00</th>\n",
              "      <td>15.931659</td>\n",
              "    </tr>\n",
              "    <tr>\n",
              "      <th>2000-02-05 06:00:00+01:00</th>\n",
              "      <td>19.830795</td>\n",
              "    </tr>\n",
              "    <tr>\n",
              "      <th>2000-02-05 12:00:00+01:00</th>\n",
              "      <td>19.896295</td>\n",
              "    </tr>\n",
              "    <tr>\n",
              "      <th>2000-02-05 18:00:00+01:00</th>\n",
              "      <td>19.838574</td>\n",
              "    </tr>\n",
              "    <tr>\n",
              "      <th>2000-02-06 00:00:00+01:00</th>\n",
              "      <td>15.873002</td>\n",
              "    </tr>\n",
              "    <tr>\n",
              "      <th>2000-02-06 06:00:00+01:00</th>\n",
              "      <td>19.759139</td>\n",
              "    </tr>\n",
              "    <tr>\n",
              "      <th>2000-02-06 12:00:00+01:00</th>\n",
              "      <td>19.936084</td>\n",
              "    </tr>\n",
              "    <tr>\n",
              "      <th>2000-02-06 18:00:00+01:00</th>\n",
              "      <td>19.863919</td>\n",
              "    </tr>\n",
              "    <tr>\n",
              "      <th>2000-02-07 00:00:00+01:00</th>\n",
              "      <td>15.877259</td>\n",
              "    </tr>\n",
              "    <tr>\n",
              "      <th>2000-02-07 06:00:00+01:00</th>\n",
              "      <td>19.712885</td>\n",
              "    </tr>\n",
              "    <tr>\n",
              "      <th>2000-02-07 12:00:00+01:00</th>\n",
              "      <td>19.761425</td>\n",
              "    </tr>\n",
              "    <tr>\n",
              "      <th>2000-02-07 18:00:00+01:00</th>\n",
              "      <td>19.752023</td>\n",
              "    </tr>\n",
              "  </tbody>\n",
              "</table>\n",
              "</div><br><label><b>dtype:</b> float64</label>"
            ]
          },
          "metadata": {},
          "execution_count": 202
        }
      ]
    },
    {
      "cell_type": "markdown",
      "source": [
        "*PLOT*"
      ],
      "metadata": {
        "id": "HiBVQFEnNoSI"
      }
    },
    {
      "cell_type": "code",
      "source": [
        "data = pd.DataFrame({'T1': input_data_set['T1'],\n",
        "                     'θ2': y['θ2'],\n",
        "                     'Etot': input_data_set['Etot'],\n",
        "                     'q_HVAC': q_HVAC})\n",
        "\n",
        "fig, axs = plt.subplots(2, 1)\n",
        "data[['T1', 'θ2']].plot(ax=axs[0],\n",
        "                        xticks=[],\n",
        "                        ylabel='Temperature, $θ$ / °C')\n",
        "\n",
        "axs[0].legend(['$θ_{outdoor}$', '$θ_{Small room}$'],\n",
        "              loc='upper right')\n",
        "\n",
        "data[['Etot', 'q_HVAC']].plot(ax=axs[1],\n",
        "                              ylabel='Heat rate, $q$ / (W·m⁻²)')\n",
        "axs[1].set(xlabel='Time')\n",
        "axs[1].legend(['$E_{total}$', '$q_{HVAC}$'],\n",
        "              loc='upper right')\n",
        "plt.show();"
      ],
      "metadata": {
        "colab": {
          "base_uri": "https://localhost:8080/",
          "height": 480
        },
        "id": "Ut4A2-QMNuJ_",
        "outputId": "e2ec779b-4119-4623-9ce1-f54731428bbc"
      },
      "execution_count": 198,
      "outputs": [
        {
          "output_type": "display_data",
          "data": {
            "text/plain": [
              "<Figure size 640x480 with 2 Axes>"
            ],
            "image/png": "[encoded data removed]"
          },
          "metadata": {}
        }
      ]
    },
    {
      "cell_type": "code",
      "source": [
        "data = pd.DataFrame({'T1': input_data_set['T1'],\n",
        "                     'θ0': y['θ0'],\n",
        "                     'Etot': input_data_set['Etot'],\n",
        "                     'q_HVAC': q_HVAC})\n",
        "\n",
        "fig, axs = plt.subplots(2, 1)\n",
        "data[['T1', 'θ0']].plot(ax=axs[0],\n",
        "                        xticks=[],\n",
        "                        ylabel='Temperature, $θ$ / °C')\n",
        "\n",
        "axs[0].legend(['$θ_{outdoor}$', '$θ_{Big room}$'],\n",
        "              loc='upper right')\n",
        "\n",
        "data[['Etot', 'q_HVAC']].plot(ax=axs[1],\n",
        "                              ylabel='Heat rate, $q$ / (W·m⁻²)')\n",
        "axs[1].set(xlabel='Time')\n",
        "axs[1].legend(['$E_{total}$', '$q_{HVAC}$'],\n",
        "              loc='upper right')\n",
        "plt.show();"
      ],
      "metadata": {
        "colab": {
          "base_uri": "https://localhost:8080/",
          "height": 480
        },
        "id": "xKCqK4wWPnhG",
        "outputId": "b8f9a3a9-41f1-439f-98fc-a63c38278ca0"
      },
      "execution_count": 199,
      "outputs": [
        {
          "output_type": "display_data",
          "data": {
            "text/plain": [
              "<Figure size 640x480 with 2 Axes>"
            ],
            "image/png": "[encoded data removed]"
          },
          "metadata": {}
        }
      ]
    },
    {
      "cell_type": "markdown",
      "source": [
        "**DISCUSSION**"
      ],
      "metadata": {
        "id": "Ze-GhuflQkMV"
      }
    },
    {
      "cell_type": "code",
      "source": [
        "import time\n",
        "\n",
        "\n",
        "sys = ctrl.ss(As.values, Bs.values, Cs.values, Ds.values)\n",
        "\n",
        "\n",
        "θ0_sim_np = θ0\n",
        "\n",
        "\n",
        "\n",
        "u_np_ctrl = u.values.T       # inputs in time (transposés pour la librairie control)\n",
        "\n",
        "\n",
        "t_np = (u.index - u.index.min()).total_seconds().values\n",
        "\n",
        "\n",
        "start_time = time.time()\n",
        "\n",
        "\n",
        "t_ctrl, yout_ctrl, xout_ctrl = ctrl.input_output_response(sys, T=t_np, U=u_np_ctrl, X0=θ0_sim_np, return_x=True)\n",
        "\n",
        "end_time = time.time()\n",
        "duration_1 = end_time - start_time\n",
        "\n",
        "start_time = time.time()\n",
        "\n",
        "# Euler explicit\n",
        "θ0 = 20.0                   # °C, initial temperatures\n",
        "θ = pd.DataFrame(index=u.index)\n",
        "θ[As.columns] = θ0          # fill θ with initial valeus θ0\n",
        "for k in range(u.shape[0] - 1):\n",
        "    # Calculer le nouveau vecteur d'état (résultat est un tableau NumPy)\n",
        "    new_state_np = (I + dt * As) @ θ.iloc[k].values + dt * Bs @ u.iloc[k].values\n",
        "\n",
        "    # Convertir le tableau NumPy en une Série Pandas avec les mêmes noms de colonnes que θ\n",
        "    new_state_series = pd.Series(new_state_np, index=θ.columns)\n",
        "\n",
        "    # Assigner la Série au DataFrame θ à la ligne k+1\n",
        "    θ.iloc[k + 1] = new_state_series\n",
        "\n",
        "\n",
        "# Calculer le résultat du modèle d'espace d'état (tableau NumPy)\n",
        "y_np = (Cs.values @ θ.T.values + Ds.values @  u.T.values).T\n",
        "\n",
        "# Convertir le tableau NumPy en DataFrame Pandas en utilisant les noms de colonnes de Cs\n",
        "y = pd.DataFrame(y_np, index=u.index, columns=Cs.index)\n",
        "\n",
        "\n",
        "end_time = time.time()\n",
        "duration_2 = end_time - start_time\n",
        "\n",
        "fig, axs = plt.subplots(figsize=(10, 6))\n",
        "\n",
        "output_name_to_plot = 'θ0'\n",
        "\n",
        "\n",
        "axs.plot(t_ctrl / 3600 / 24, yout_ctrl[idx_output_plot, :], label='Control Systems Library',\n",
        "         linestyle='--', color='red', linewidth=2, marker='', markersize=4)\n",
        "\n",
        "\n",
        "axs.plot((y.index - y.index.min()).total_seconds().values / 3600 / 24, # Temps pour Euler\n",
        "        y[output_name_to_plot].values, label='Euler explicit') # Valeurs de la colonne sélectionnée\n",
        "\n",
        "axs.set(xlabel='Time, $t$ / day',\n",
        "        ylabel=f'Temperature, $θ$ / °C (Node {output_name_to_plot})', # Indiquer quel nœud est tracé\n",
        "        title='Comparison of Control Systems Library with Explicit Euler')\n",
        "axs.grid(True)\n",
        "axs.legend()\n",
        "plt.show()\n",
        "\n",
        "# Print the comparison of durations\n",
        "print(f\"Duration for Control Systems Library: {duration_1:.2f} seconds\")\n",
        "print(f\"Duration for Euler explict:           {duration_2:.2f} seconds\")"
      ],
      "metadata": {
        "colab": {
          "base_uri": "https://localhost:8080/",
          "height": 603
        },
        "id": "Y4w-H2ZISgPo",
        "outputId": "070d7066-fc51-4f99-97fe-ba33afcbfcfa"
      },
      "execution_count": 225,
      "outputs": [
        {
          "output_type": "display_data",
          "data": {
            "text/plain": [
              "<Figure size 1000x600 with 1 Axes>"
            ],
            "image/png": "[encoded data removed]"
          },
          "metadata": {}
        },
        {
          "output_type": "stream",
          "name": "stdout",
          "text": [
            "Duration for Control Systems Library: 0.02 seconds\n",
            "Duration for Euler explict:           0.04 seconds\n"
          ]
        }
      ]
    }
  ]
}